{
  "cells": [
    {
      "cell_type": "markdown",
      "metadata": {
        "id": "klWZ2foM6sX3"
      },
      "source": [
        "### 1) Import functions and libraries, Initialize requirements"
      ]
    },
    {
      "cell_type": "code",
      "execution_count": null,
      "metadata": {
        "colab": {
          "base_uri": "https://localhost:8080/"
        },
        "id": "_Na7nYpNlImw",
        "outputId": "700c143d-e54e-4644-a6d1-215847e2ce77"
      },
      "outputs": [
        {
          "name": "stdout",
          "output_type": "stream",
          "text": [
            "Looking in indexes: https://pypi.org/simple, https://us-python.pkg.dev/colab-wheels/public/simple/\n",
            "Collecting facenet_pytorch\n",
            "  Downloading facenet_pytorch-2.5.2-py3-none-any.whl (1.9 MB)\n",
            "\u001b[K     |████████████████████████████████| 1.9 MB 4.6 MB/s \n",
            "\u001b[?25hRequirement already satisfied: torchvision in /usr/local/lib/python3.8/dist-packages (from facenet_pytorch) (0.14.0+cu116)\n",
            "Requirement already satisfied: numpy in /usr/local/lib/python3.8/dist-packages (from facenet_pytorch) (1.21.6)\n",
            "Requirement already satisfied: pillow in /usr/local/lib/python3.8/dist-packages (from facenet_pytorch) (7.1.2)\n",
            "Requirement already satisfied: requests in /usr/local/lib/python3.8/dist-packages (from facenet_pytorch) (2.23.0)\n",
            "Requirement already satisfied: urllib3!=1.25.0,!=1.25.1,<1.26,>=1.21.1 in /usr/local/lib/python3.8/dist-packages (from requests->facenet_pytorch) (1.24.3)\n",
            "Requirement already satisfied: chardet<4,>=3.0.2 in /usr/local/lib/python3.8/dist-packages (from requests->facenet_pytorch) (3.0.4)\n",
            "Requirement already satisfied: idna<3,>=2.5 in /usr/local/lib/python3.8/dist-packages (from requests->facenet_pytorch) (2.10)\n",
            "Requirement already satisfied: certifi>=2017.4.17 in /usr/local/lib/python3.8/dist-packages (from requests->facenet_pytorch) (2022.12.7)\n",
            "Requirement already satisfied: torch==1.13.0 in /usr/local/lib/python3.8/dist-packages (from torchvision->facenet_pytorch) (1.13.0+cu116)\n",
            "Requirement already satisfied: typing-extensions in /usr/local/lib/python3.8/dist-packages (from torchvision->facenet_pytorch) (4.4.0)\n",
            "Installing collected packages: facenet-pytorch\n",
            "Successfully installed facenet-pytorch-2.5.2\n"
          ]
        }
      ],
      "source": [
        "!pip install facenet_pytorch"
      ]
    },
    {
      "cell_type": "code",
      "execution_count": null,
      "metadata": {
        "colab": {
          "base_uri": "https://localhost:8080/",
          "height": 675
        },
        "id": "UCcvpsXTQrDK",
        "outputId": "174032cc-a09c-489e-c4e8-2b202456b501"
      },
      "outputs": [
        {
          "name": "stdout",
          "output_type": "stream",
          "text": [
            "Looking in indexes: https://pypi.org/simple, https://us-python.pkg.dev/colab-wheels/public/simple/\n",
            "Collecting python_telegram_bot\n",
            "  Downloading python_telegram_bot-13.15-py3-none-any.whl (519 kB)\n",
            "\u001b[K     |████████████████████████████████| 519 kB 4.9 MB/s \n",
            "\u001b[?25hRequirement already satisfied: pytz>=2018.6 in /usr/local/lib/python3.8/dist-packages (from python_telegram_bot) (2022.6)\n",
            "Collecting tornado==6.1\n",
            "  Downloading tornado-6.1-cp38-cp38-manylinux2010_x86_64.whl (427 kB)\n",
            "\u001b[K     |████████████████████████████████| 427 kB 51.2 MB/s \n",
            "\u001b[?25hCollecting APScheduler==3.6.3\n",
            "  Downloading APScheduler-3.6.3-py2.py3-none-any.whl (58 kB)\n",
            "\u001b[K     |████████████████████████████████| 58 kB 6.2 MB/s \n",
            "\u001b[?25hRequirement already satisfied: certifi in /usr/local/lib/python3.8/dist-packages (from python_telegram_bot) (2022.12.7)\n",
            "Collecting cachetools==4.2.2\n",
            "  Downloading cachetools-4.2.2-py3-none-any.whl (11 kB)\n",
            "Requirement already satisfied: tzlocal>=1.2 in /usr/local/lib/python3.8/dist-packages (from APScheduler==3.6.3->python_telegram_bot) (1.5.1)\n",
            "Requirement already satisfied: six>=1.4.0 in /usr/local/lib/python3.8/dist-packages (from APScheduler==3.6.3->python_telegram_bot) (1.15.0)\n",
            "Requirement already satisfied: setuptools>=0.7 in /usr/local/lib/python3.8/dist-packages (from APScheduler==3.6.3->python_telegram_bot) (57.4.0)\n",
            "Installing collected packages: tornado, cachetools, APScheduler, python-telegram-bot\n",
            "  Attempting uninstall: tornado\n",
            "    Found existing installation: tornado 6.0.4\n",
            "    Uninstalling tornado-6.0.4:\n",
            "      Successfully uninstalled tornado-6.0.4\n",
            "  Attempting uninstall: cachetools\n",
            "    Found existing installation: cachetools 5.2.0\n",
            "    Uninstalling cachetools-5.2.0:\n",
            "      Successfully uninstalled cachetools-5.2.0\n",
            "\u001b[31mERROR: pip's dependency resolver does not currently take into account all the packages that are installed. This behaviour is the source of the following dependency conflicts.\n",
            "google-colab 1.0.0 requires tornado~=6.0.4, but you have tornado 6.1 which is incompatible.\u001b[0m\n",
            "Successfully installed APScheduler-3.6.3 cachetools-4.2.2 python-telegram-bot-13.15 tornado-6.1\n"
          ]
        },
        {
          "data": {
            "application/vnd.colab-display-data+json": {
              "pip_warning": {
                "packages": [
                  "tornado"
                ]
              }
            }
          },
          "metadata": {},
          "output_type": "display_data"
        }
      ],
      "source": [
        "!pip install python_telegram_bot"
      ]
    },
    {
      "cell_type": "code",
      "execution_count": null,
      "metadata": {
        "id": "nIWS_-lAk8NE"
      },
      "outputs": [],
      "source": [
        "from telegram.ext import *\n",
        "from io import BytesIO\n",
        "from facenet_pytorch import MTCNN, InceptionResnetV1, fixed_image_standardization, training, extract_face\n",
        "import torch\n",
        "from PIL import Image, ImageDraw\n",
        "from torch.utils.data import DataLoader, SubsetRandomSampler\n",
        "from torch import optim\n",
        "from torch.optim.lr_scheduler import MultiStepLR\n",
        "from torch.utils.tensorboard import SummaryWriter\n",
        "from torchvision import datasets, transforms\n",
        "import numpy as np\n",
        "import pandas as pd\n",
        "import os\n",
        "from matplotlib import pyplot as plt\n",
        "from google.colab import drive\n",
        "import glob\n",
        "from torch.autograd import Variable\n",
        "from os import listdir\n",
        "import copy\n",
        "import seaborn as sns\n",
        "sns.set_style('whitegrid')\n",
        "sns.set(font_scale=1.5)\n",
        "from pylab import rcParams\n",
        "rcParams['figure.figsize'] = 12, 8 \n",
        "import warnings\n",
        "warnings.filterwarnings(\"ignore\")\n",
        "import matplotlib.image as mpimg\n",
        "import cv2\n",
        "%matplotlib inline"
      ]
    },
    {
      "cell_type": "code",
      "execution_count": null,
      "metadata": {
        "colab": {
          "base_uri": "https://localhost:8080/"
        },
        "id": "YvkRTzCElWJP",
        "outputId": "95381006-e01d-4839-a392-d460c9d4026e"
      },
      "outputs": [
        {
          "name": "stdout",
          "output_type": "stream",
          "text": [
            "Mounted at /content/drive\n"
          ]
        }
      ],
      "source": [
        "drive.mount('/content/drive')"
      ]
    },
    {
      "cell_type": "code",
      "execution_count": null,
      "metadata": {
        "id": "QZffjcavRqxi"
      },
      "outputs": [],
      "source": [
        "with open('/content/drive/MyDrive/datasets/Telegram_token.txt', 'r') as f:\n",
        "  TOKEN = f.read()"
      ]
    },
    {
      "cell_type": "code",
      "execution_count": null,
      "metadata": {
        "id": "tSXM98ilR7fK"
      },
      "outputs": [],
      "source": [
        "#TOKEN"
      ]
    },
    {
      "cell_type": "markdown",
      "metadata": {
        "id": "kjJFP-bfYtbd"
      },
      "source": [
        "### 2) Writing Bot"
      ]
    },
    {
      "cell_type": "code",
      "execution_count": null,
      "metadata": {
        "colab": {
          "background_save": true
        },
        "id": "MlQ16N78YtMm"
      },
      "outputs": [],
      "source": [
        "mtcnn = MTCNN(\n",
        "  image_size=160, margin=0, min_face_size=20,\n",
        "  thresholds=[0.6, 0.7, 0.7], factor=0.709, post_process=True)\n",
        "model = torch.load('/content/drive/MyDrive/Kursovaya_4/model_final')\n",
        "\n",
        "players = ['Antony','Aurelien Tchouameni', 'Bernardo Silva', 'Bruno Fernandes','Bukayo Saka',\n",
        " 'Christopher Nkunku','Declan Rice','Dusan Vlahovic','Erling Haaland','Federico Valverde',\n",
        " 'Gabriel Jesus','Gavi','Harry Kane','Jamal Musiala','Joshua Kimmich',\n",
        " 'Jude Bellingham','Kevin De Bruyne','Kulian Mbappe','Lautaro Martinez','Luis Diaz',\n",
        " 'Mason Mount','Mohamed Salah','Neymar','Pedri','Phil Foden',\n",
        " 'Rafael Leao','Rodri','Rodrygo','Ruben Dias','Vinicius Junior']\n",
        "\n",
        "def start(update, context):\n",
        "  update.message.reply_text(\"Привет!  Напиши /help для знакомства с функционалом\")\n",
        "def help(update, context):\n",
        "  update.message.reply_text(\"\"\"\n",
        "/start - Starts conversation\n",
        "/help Shows this message\n",
        "/load Loads pretrained network\n",
        "  \"\"\")\n",
        "\n",
        "def load(update, context):\n",
        "  pass\n",
        "  update.message.reply_text(\"Модель загружается...\")\n",
        "  \n",
        "  update.message.reply_text(\"Готово ! Теперь можешь присылать фото (нужно обязательно сжать) !\")\n",
        "\n",
        "def handle_message(update, context):\n",
        "  update.message.reply_text(\"Привет, можешь присылать фото (нужно обязательно сжать) !\")\n",
        "\n",
        "def handle_photo(update, context):\n",
        "  #update.message.reply_text(f\" На шаге 0\")\n",
        "  file = context.bot.get_file(update.message.photo[-1].file_id)\n",
        "  #update.message.reply_text(f\" На шаге 1\")\n",
        "  f = BytesIO(file.download_as_bytearray())\n",
        "  #update.message.reply_text(f\" На шаге 2\")\n",
        "  file_bytes = np.asarray(bytearray(f.read()), dtype=np.uint8)\n",
        "  #update.message.reply_text(f\" На шаге 3\")\n",
        "  img = cv2.imdecode(file_bytes, cv2.IMREAD_COLOR)\n",
        "  img = cv2.cvtColor(img, cv2.COLOR_RGB2BGR)\n",
        "  img = cv2.resize(img, (512, 512))\n",
        "  #img = Image.open(file_bytes)\n",
        "  #update.message.reply_text(f\" На шаге 4\")\n",
        "  img_cropped = mtcnn(img)\n",
        "  #update.message.reply_text(f\" На шаге 5\")\n",
        "  img_probs = model(img_cropped.unsqueeze(0))\n",
        "  #update.message.reply_text(f\" На шаге 6\")\n",
        "  predicted_player = players[torch.argmax(img_probs)]\n",
        "  #update.message.reply_text(f\" На шаге 7\")\n",
        "  update.message.reply_text(f\" Я думаю, что на фотографии {predicted_player}\")\n",
        "\n",
        "\n",
        "updater = Updater(TOKEN, use_context=True)\n",
        "dp = updater.dispatcher\n",
        "\n",
        "dp.add_handler(CommandHandler(\"start\", start))\n",
        "dp.add_handler(CommandHandler(\"help\", help))\n",
        "dp.add_handler(CommandHandler(\"load\",load))\n",
        "dp.add_handler(MessageHandler(Filters.text, handle_message))\n",
        "dp.add_handler(MessageHandler(Filters.photo, handle_photo))\n",
        "\n",
        "updater.start_polling()\n",
        "updater.idle()"
      ]
    },
    {
      "cell_type": "code",
      "execution_count": null,
      "metadata": {
        "id": "HZDSXZQcY4f5"
      },
      "outputs": [],
      "source": []
    },
    {
      "cell_type": "code",
      "execution_count": null,
      "metadata": {
        "id": "cb29Qhf9Y44z"
      },
      "outputs": [],
      "source": []
    },
    {
      "cell_type": "code",
      "execution_count": null,
      "metadata": {
        "id": "hY7QBIXQY5gL"
      },
      "outputs": [],
      "source": []
    }
  ],
  "metadata": {
    "colab": {
      "collapsed_sections": [
        "klWZ2foM6sX3"
      ],
      "provenance": []
    },
    "kernelspec": {
      "display_name": "Python 3",
      "language": "python",
      "name": "python3"
    },
    "language_info": {
      "codemirror_mode": {
        "name": "ipython",
        "version": 3
      },
      "file_extension": ".py",
      "mimetype": "text/x-python",
      "name": "python",
      "nbconvert_exporter": "python",
      "pygments_lexer": "ipython3",
      "version": "3.7.3"
    }
  },
  "nbformat": 4,
  "nbformat_minor": 0
}